{
  "nbformat": 4,
  "nbformat_minor": 0,
  "metadata": {
    "colab": {
      "provenance": []
    },
    "kernelspec": {
      "name": "python3",
      "display_name": "Python 3"
    },
    "language_info": {
      "name": "python"
    }
  },
  "cells": [
    {
      "cell_type": "markdown",
      "source": [
        "<center>\n",
        "    <img src=\"https://cf-courses-data.s3.us.cloud-object-storage.appdomain.cloud/IBMDeveloperSkillsNetwork-DS0105EN-SkillsNetwork/labs/Module2/images/SN_web_lightmode.png\" width=\"300\" alt=\"cognitiveclass.ai logo\">\n",
        "</center>\n"
      ],
      "metadata": {
        "id": "S71oOHiIzVai"
      }
    },
    {
      "cell_type": "markdown",
      "source": [
        "#### Add your code below following the instructions given in the course"
      ],
      "metadata": {
        "id": "Kc_2IrRrza3Y"
      }
    },
    {
      "cell_type": "markdown",
      "source": [
        "<h1> Data Science Tools and Ecosystem"
      ],
      "metadata": {
        "id": "KHEfoBsSeyoq"
      }
    },
    {
      "cell_type": "markdown",
      "source": [
        "In this notebook, Data Science Tools and Ecosystem are summarized."
      ],
      "metadata": {
        "id": "FaJHX_sGfF2f"
      }
    },
    {
      "cell_type": "markdown",
      "source": [
        "**Objectives:**\n",
        "\n",
        "*   Popular languages for Data Science\n",
        "*   Commonly used libraries used by Data Scientists\n",
        "*   Commonly used libraries used by Data Scientists\n",
        "\n"
      ],
      "metadata": {
        "id": "QEwAkNM7qNT9"
      }
    },
    {
      "cell_type": "markdown",
      "source": [
        "Some of the popular languages that Data Scientists use are:\n",
        "\n",
        "1.   R language\n",
        "2.   Python\n",
        "3.   SQL\n",
        "4.   Julia"
      ],
      "metadata": {
        "id": "SGG0p41DfbZn"
      }
    },
    {
      "cell_type": "markdown",
      "source": [
        "Some of the commonly used libraries used by Data Scientists include:\n",
        "\n",
        "1.   Pandas\n",
        "2.   Numpy\n",
        "3.   Sci\n",
        "4.   Matplotlib\n",
        "5.   Keras"
      ],
      "metadata": {
        "id": "tcBF5N9NgH32"
      }
    },
    {
      "cell_type": "markdown",
      "source": [
        "|**Data Science Tools**|\n",
        "|-|\n",
        "|Jupyter Notebook|\n",
        "|VsCode|\n",
        "|R Studio|"
      ],
      "metadata": {
        "id": "AYexw1SugvLk"
      }
    },
    {
      "cell_type": "markdown",
      "source": [
        "<h3>Below are a few examples of evaluating arithmetic expressions in Python\n",
        "\n",
        "(3*4)+5"
      ],
      "metadata": {
        "id": "V9HruaVmiXIw"
      }
    },
    {
      "cell_type": "code",
      "source": [
        "#This a simple arithmetic expression to mutiply then add integers\n",
        "(3*4)+5"
      ],
      "metadata": {
        "colab": {
          "base_uri": "https://localhost:8080/"
        },
        "id": "Apj49_g2lBsW",
        "outputId": "68f86a3e-b1c0-487a-abfc-dfda1564b96e"
      },
      "execution_count": null,
      "outputs": [
        {
          "output_type": "execute_result",
          "data": {
            "text/plain": [
              "17"
            ]
          },
          "metadata": {},
          "execution_count": 3
        }
      ]
    },
    {
      "cell_type": "code",
      "source": [
        "#This will convert 200 minutes to hours by diving by 60\n",
        "200/60"
      ],
      "metadata": {
        "colab": {
          "base_uri": "https://localhost:8080/"
        },
        "id": "jw-y9J-epfzL",
        "outputId": "0178b710-8266-45a0-9670-0583a0e9f105"
      },
      "execution_count": null,
      "outputs": [
        {
          "output_type": "execute_result",
          "data": {
            "text/plain": [
              "3.3333333333333335"
            ]
          },
          "metadata": {},
          "execution_count": 4
        }
      ]
    },
    {
      "cell_type": "markdown",
      "source": [
        "<h2>Author\n",
        "\n",
        "Jorge Hernán Obando Chacón"
      ],
      "metadata": {
        "id": "MxwOynSArIcr"
      }
    }
  ]
}